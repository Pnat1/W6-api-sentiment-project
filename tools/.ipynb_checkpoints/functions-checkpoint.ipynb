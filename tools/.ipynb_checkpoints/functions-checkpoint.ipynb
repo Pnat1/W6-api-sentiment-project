{
 "cells": [
  {
   "cell_type": "code",
   "execution_count": 1,
   "id": "4d539542",
   "metadata": {},
   "outputs": [
    {
     "name": "stdout",
     "output_type": "stream",
     "text": [
      "Requirement already satisfied: config in /home/guillermo/anaconda3/lib/python3.8/site-packages (0.5.1)\n",
      "Note: you may need to restart the kernel to use updated packages.\n"
     ]
    }
   ],
   "source": [
    "pip install config\n"
   ]
  },
  {
   "cell_type": "code",
   "execution_count": 5,
   "id": "18cf9b7d",
   "metadata": {},
   "outputs": [],
   "source": [
    "import random\n",
    "from numpy import record\n",
    "import pandas as pd\n",
    "import ast\n",
    "import string\n",
    "import spacy\n",
    "import nltk\n",
    "from nltk.sentiment.vader import SentimentIntensityAnalyzer\n",
    "import regex as re"
   ]
  },
  {
   "cell_type": "code",
   "execution_count": null,
   "id": "8ff4cd70",
   "metadata": {},
   "outputs": [],
   "source": [
    "from config.configuration import engine\n"
   ]
  },
  {
   "cell_type": "code",
   "execution_count": 7,
   "id": "57dc1d29",
   "metadata": {},
   "outputs": [],
   "source": [
    "def actor_characters():\n",
    "    \"\"\"\n",
    "    Calls the database in MySQl and returns all the actor characters in a json format.\n",
    "    \"\"\"\n",
    "    query = f\"\"\"\n",
    "    SELECT film_character FROM actors\n",
    "    \"\"\"\n",
    "    data = pd.read_sql_query(query,engine)\n",
    "    return data.to_json(orient=\"records\")"
   ]
  },
  {
   "cell_type": "code",
   "execution_count": 8,
   "id": "36a9eee0",
   "metadata": {},
   "outputs": [],
   "source": [
    "def lines():\n",
    "    \"\"\"\n",
    "    Calls the database in MySQl and returns all the script lines in a json format.\n",
    "    \"\"\"\n",
    "    query= f\"\"\"\n",
    "    SELECT line_quote FROM line_quotes\n",
    "    \"\"\"\n",
    "    data = pd.read_sql_query(query,engine)\n",
    "    return data.to_json(orient=\"records\")"
   ]
  },
  {
   "cell_type": "code",
   "execution_count": 9,
   "id": "0ad60573",
   "metadata": {},
   "outputs": [],
   "source": [
    "def places():\n",
    "    \"\"\"\n",
    "    Calls the database in MySQl and returns the different places where the film_characters \n",
    "    said their lines.\n",
    "    \"\"\"\n",
    "    query = f\"\"\"\n",
    "    SELECT place FROM place;\n",
    "    \"\"\"\n",
    "    data = pd.read_sql_query(query,engine)\n",
    "    return data.to_json(orient='records')"
   ]
  },
  {
   "cell_type": "code",
   "execution_count": 1,
   "id": "e81a7ba7",
   "metadata": {},
   "outputs": [],
   "source": [
    "def actor_line(actor_name):\n",
    "    \"\"\"\n",
    "    You can put the name of the author you want and this returns his name, the palce\n",
    "    he is in and the script line he says.\n",
    "    \"\"\"\n",
    "    query = f\"\"\"\n",
    "    SELECT film_character, Frases.Frase, Campo.Campo\n",
    "    FROM actors\n",
    "    INNER JOIN line_quote ON actors_actor_id = actor_id\n",
    "    INNER JOIN place ON place_id = place_place_id \n",
    "    WHERE actor_name = '{film_character}'\n",
    "    \"\"\"\n",
    "    data = pd.read_sql_query(query,engine)\n",
    "    return data.to_json(orient=\"records\")"
   ]
  },
  {
   "cell_type": "code",
   "execution_count": null,
   "id": "aa6e4f9b",
   "metadata": {},
   "outputs": [],
   "source": []
  }
 ],
 "metadata": {
  "kernelspec": {
   "display_name": "ironhack",
   "language": "python",
   "name": "ironhack"
  },
  "language_info": {
   "codemirror_mode": {
    "name": "ipython",
    "version": 3
   },
   "file_extension": ".py",
   "mimetype": "text/x-python",
   "name": "python",
   "nbconvert_exporter": "python",
   "pygments_lexer": "ipython3",
   "version": "3.8.8"
  }
 },
 "nbformat": 4,
 "nbformat_minor": 5
}
